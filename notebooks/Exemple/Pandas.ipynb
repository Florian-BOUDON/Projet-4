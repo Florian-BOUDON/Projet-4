{
  "nbformat": 4,
  "nbformat_minor": 0,
  "metadata": {
    "colab": {
      "provenance": [],
      "collapsed_sections": []
    },
    "kernelspec": {
      "name": "python3",
      "display_name": "Python 3"
    },
    "language_info": {
      "name": "python"
    }
  },
  "cells": [
    {
      "cell_type": "markdown",
      "metadata": {
        "id": "IK41hzRzsKaf"
      },
      "source": [
        "# <font color=\"#8333ff\">Fiche d'aide à l'analyse des données\n",
        "\n",
        "\n",
        "## <font color=\"#8333ff\">Introduction à la librairie Pandas"
      ]
    },
    {
      "cell_type": "markdown",
      "metadata": {
        "id": "r7ursf7QsKXG"
      },
      "source": []
    },
    {
      "cell_type": "code",
      "metadata": {
        "id": "Ux6fjQjcg0bl"
      },
      "source": [
        "# importation des librairies nécessaires à la tranformation des données\n",
        "\n",
        "import pandas as pd\n",
        "import numpy as np\n",
        "import matplotlib.pyplot as plt\n",
        "import seaborn as sns\n",
        "import datetime  as dt"
      ],
      "execution_count": null,
      "outputs": []
    },
    {
      "cell_type": "code",
      "metadata": {
        "id": "RZIe4SXO-OtQ"
      },
      "source": [
        "# lire des données en format csv\n",
        "df=pd.read_csv(\"data.csv\",sep=\";\",decimal=\".\",header=True,index_col=0)\n",
        "\n",
        "# lire des données en format excel\n",
        "X = pandas.read_excel(\"data.xlsx\",sheet_name=0,header=0,index_col=0)\n",
        "\n",
        "# reccupérer les données d'un DF\n",
        "df.to_csv(\"df.csv\",sep=\";\")\n",
        "\n",
        "# Sauvgarder une image\n",
        "# Ne pas oublier d'importer matplotlib.pyplot\n",
        "plt.savefig('heatmap.png')\n",
        "\n",
        "# Télécharger d'un autre dossier\n",
        "df = pd.read_csv(\"C:\\\\Users\\\\fbbou\\\\Notebook Jupyter\\\\DATA\\\\arbres.csv\",sep=\";\")"
      ],
      "execution_count": null,
      "outputs": []
    },
    {
      "cell_type": "code",
      "source": [
        "# Changer de dossier de ref\n",
        "import os\n",
        "\n",
        "os.chdir(\"C:\\Users\\fbbou\\Notebook Jupyter\\Lisa\")"
      ],
      "metadata": {
        "id": "IFLbSoknGJeE"
      },
      "execution_count": null,
      "outputs": []
    },
    {
      "cell_type": "code",
      "metadata": {
        "id": "IoAiWdg0tEu1"
      },
      "source": [
        "# Affiche uniquement 2 chiffres après la virgule pour les floatants\n",
        "pd.set_option('display.float_format', '{:.2f}'.format)\n",
        "\n",
        "# Style des graphes seaborn\n",
        "sns.set_theme(style=\"whitegrid\")"
      ],
      "execution_count": null,
      "outputs": []
    },
    {
      "cell_type": "markdown",
      "metadata": {
        "id": "xpPEmXBSQVDd"
      },
      "source": [
        "## Structure du DF"
      ]
    },
    {
      "cell_type": "code",
      "metadata": {
        "id": "afMjhLtmtFA3"
      },
      "source": [
        "# Renvoie un df constitué uniquement des float\n",
        "df.select_dtypes(include='float')\n",
        "\n",
        "# Créer un DF à partir d'un objet numpy (tab)\n",
        "df = pd.DataFrame(tab.np,index=['a1','a2'],columns=['X1','X2'])\n",
        "\n",
        "# vérifie le type de df\n",
        "type(df)  \n",
        "\n",
        "# donne le nombre de ligne et colonne                        \n",
        "df.shape \n",
        "                         \n",
        "# donne les premières lignes du jeu de donnée\n",
        "df.head() \n",
        "\n",
        "# donne les noms des colonnes                         \n",
        "df.columns \n",
        "                        \n",
        "# donne le type de chaque colonne\n",
        "df.types   \n",
        "                        \n",
        "# donne des informations sur les données\n",
        "df.info()                          \n",
        "\n",
        "# donne des informations sur les données\n",
        "df.describe(include=\"all\") \n",
        "\n",
        "# Renvoie un Pandas serie avec pour chaque colonne le nombre de valeur null        \n",
        "df.isnull().sum()\n",
        "\n",
        "# Renvoie le nombre de valeur null du DF\n",
        "df.isnull().sum().sum()\n",
        "\n",
        "# Renvoie le pourcentage de valeur null du DF\n",
        "df.isnull().sum().sum() / df.shape[0]*df.shape[1]\n",
        "\n",
        "# supprime le df\n",
        "del(df)    \n",
        "\n",
        "# renvoie le nombre de valeur unique de X1                    \n",
        "len(df['X1'].unique())          \n",
        "\n",
        "# renomer une colonne\n",
        "df = df.rename (columns = {'ancien_X' : 'nouv_X', 'ancien_y' : 'nouv_y'} ) "
      ],
      "execution_count": null,
      "outputs": []
    },
    {
      "cell_type": "markdown",
      "metadata": {
        "id": "GoYBpcNpSKNs"
      },
      "source": [
        "## Manipulation des variables\n"
      ]
    },
    {
      "cell_type": "markdown",
      "metadata": {
        "id": "NfuRYZPlUvwQ"
      },
      "source": [
        "### Accès aux varibles"
      ]
    },
    {
      "cell_type": "code",
      "metadata": {
        "id": "MxYXnz2KtFOI"
      },
      "source": [
        "# renvoie une serie pandas qui a pour valeur X1\n",
        "df['X1']  ou df.X1   \n",
        "\n",
        "# renvoie un DF constitué des colonnes X1 et X2\n",
        "df[['X1','X2']] \n",
        "\n",
        "# renvoie les premières valeurs de X1\n",
        "df['X1'].head()                   \n",
        "\n",
        "# renvoie les dernières valeurs de X1\n",
        "df['X1'].tail() \n",
        "\n",
        "# décrit X1\n",
        "df['X1'].describe()               \n",
        "\n",
        "# donne la moyenne de X1\n",
        "df['X1'].mean()                   \n",
        "\n",
        "# donne le nombre d'apparition de chaque valeur\n",
        "df['X1'].value_counts()            \n",
        "\n",
        "# renvoie une serie composé de X1 trié par ordre croissant (ascending=False)\n",
        "df['X1'].sort_values    \n",
        "\n",
        "# Renvoit le df trié par ordre décroissant selon la colonne corr_1 (double index de colonne)\n",
        "df.sort_values([(\"CORRELATION\",'CORR_1')],ascending=False)\n",
        "\n",
        "# renvoie une serie pandas composé des indices des valeurs triées\n",
        "df['X1'].argsort                  \n",
        "\n",
        "# renvoie les 4 premières valeurs de X1\n",
        "df['X1'][0:3]  <==> df.X1[0:3]    \n",
        "\n",
        "\n",
        "# trie df selon les valeurs de X1\n",
        "df.sort_values(by='X1')           \n",
        "\n",
        "# éfface la colonne X1 de DF\n",
        "df=df.drop(columns=['X1'])     \n",
        "\n",
        "# Remove two columns name is 'C' and 'D'\n",
        "df.drop(['C', 'D'], axis=1)\n",
        "  \n",
        "df.drop(columns =['C', 'D'])"
      ],
      "execution_count": null,
      "outputs": []
    },
    {
      "cell_type": "markdown",
      "metadata": {
        "id": "l4XweP2OTjNV"
      },
      "source": [
        "### Accès indicé aux données d'un DF"
      ]
    },
    {
      "cell_type": "code",
      "metadata": {
        "id": "BnHzhlkftFZf"
      },
      "source": [
        "# renvoie la valeur située en (0,0)\n",
        "df.iloc[0,0]                      \n",
        "\n",
        "# renvoie la valeur de la dernière ligne, première colonne\n",
        "df.iloc[-1,0]                      \n",
        "\n",
        "# renvoie la valeur de la dernière ligne, première colonne\n",
        "df.iloc[df.shape[0]-1,0]           \n",
        "\n",
        "# renvoie la valeur de la première ligne, dernière colonne\n",
        "df.iloc[0,df.shape[1]]           \n",
        "\n",
        "# renvoie un DF constitué des 5 premières lignes et de toutes les colonnes\n",
        "df.iloc[0:5 , : ]                  \n",
        "\n",
        "# renvoie un DF constitué des 5 dernières lignes et de toutes les colonnes\n",
        "df.iloc[-5: , : ]                  \n",
        "\n",
        "# renvoie un DF constitué des 5 premières lignes et des colonnes 0 2 et 4\n",
        "df.iloc[0:5 , [0,2,4]]             \n",
        "\n",
        "# renvoie un DF constitué des 5 premières lignes, des 5 premières colonnes avec un pas de 2\n",
        "df.iloc[0:5 , 0:5:2] \n",
        "\n",
        "# renvoie un DF constitué des lignes selectionnées\n",
        "df.loc[['a','c','e']]\n",
        "\n",
        "# Renvoit un DF constitué des colonnes selectionnées sous forme de liste\n",
        "df.loc[:,list_col]\n",
        "\n",
        "# supprime les lignes a , e et c\n",
        "df.drop(['a','c','e'])"
      ],
      "execution_count": null,
      "outputs": []
    },
    {
      "cell_type": "markdown",
      "metadata": {
        "id": "RmFQ5TCWURIq"
      },
      "source": [
        "## Restrictions avec conditions: Les Requètes"
      ]
    },
    {
      "cell_type": "code",
      "metadata": {
        "id": "D7Swea9Y8AXx"
      },
      "source": [
        "# renvoie un DF constitué de toutes les colonnes et selectionne les lignes dont la colonne X1=A\n",
        "df.loc [df[\"X1\"] == \"A\", : ]       \n",
        "\n",
        "# renvoie un vecteur booleen\n",
        "df[\"X1\"] == \"A\"                    \n",
        "\n",
        "# renvoie un DF constitué de toutes les colonnes et selectionne les lignes dont la colonne X1 est =A ou =B\n",
        "# on utilise cette technique dès qu'il y a plusieurs conditions\n",
        "df.loc [df[\"X1\"].isin (['A','B']), : ]  \n",
        "\n",
        "\n",
        "# renvoit un df qui repond au 2 critères\n",
        "df.loc[(df['X1']=='A') & (df['X2']=='B'), : ]   \n",
        "\n",
        "# renvoie un DF: les col 1,3 et 6 et selectionne les lignes pour X1 < 27 et X2 diff de B\n",
        "colonnes=['X1','X3','X6']\n",
        "df.loc [ (df['X1']<27) | (df['X2']!='B') , colonnes]\n",
        "\n",
        "# filtre avec double conditions\n",
        "df = df[(df.aielpr00 == 1) & (df.aielpr01 ==1) ]   \n",
        "\n",
        "# Renvoie un DF avec liste de colonnes et une liste de modalité de la col X1\n",
        "liste_col=['X1','X2']\n",
        "liste_mod=['a1','a2','a3']\n",
        "df[df['X1'].isin(list_mod)][liste_col]\n",
        "\n",
        "# Selectionner uniquement les colonnes numeriques\n",
        "df_num = df.select_dtypes('number')"
      ],
      "execution_count": null,
      "outputs": []
    },
    {
      "cell_type": "markdown",
      "metadata": {
        "id": "2ynJn0Jyr5KE"
      },
      "source": [
        "## Pivot - Croisement des variables"
      ]
    },
    {
      "cell_type": "code",
      "metadata": {
        "id": "efcCkwBX8AtA"
      },
      "source": [
        "# Tableau de contingence\n",
        "\n",
        "# renvoie un DF constitué des fréquences des modalités de X1 par rapport aux modalité de X2\n",
        "pd.crosstab (df[\"X1\"] , df[\"X2\"]) \n",
        "\n",
        "# renvoie un DF constitué des fréquences des modalités de X1 \n",
        "# par rapport aux modalité de X2 données en pourcentage\n",
        "pd.crosstab (df[\"X1\"],df[\"X2\"] , normalyze=\"index\")\n",
        "\n",
        "# renvoie un DF : en ligne les modalités de X1, en col les modalités de X2,\n",
        "# et remplis les champs avec les valeurs de x3\n",
        "pd.crosstab (df[\"X1\"],df[\"X2\"] , values=df[\"X3\"], aggfunc=pd.Series.mean)\n",
        "\n",
        "# renvoie le même resultat qu'haut dessus\n",
        "df.pivot_table(index[\"X1\"],columns=['X2'], values=df[\"X3\"], aggfunc=pd.Series.mean)"
      ],
      "execution_count": null,
      "outputs": []
    },
    {
      "cell_type": "markdown",
      "metadata": {
        "id": "FunY2ciHs-xV"
      },
      "source": [
        "## Utilisation de groupby()"
      ]
    },
    {
      "cell_type": "code",
      "metadata": {
        "id": "uExxr2bL8A6A"
      },
      "source": [
        "# renvoie un objet Pandas de type groupby: sission des données selon les modalités de X1\n",
        "g=df.groupby('X1')                   \n",
        "\n",
        "# calcul la dimension du sous-DF\n",
        "g.get_group('A').shape              \n",
        "\n",
        "# donne la valeur moyenne de X2 avec le filtre X1=='A'\n",
        "g.get_group('A')['X2'].mean()       \n",
        "\n",
        "# pour chaque modalité de X1 on calcul la moyenne et l'écart type de X2 et X3\n",
        "g[['X2' , 'X3']].agg([pd.Series.mean , pd.Series.std])"
      ],
      "execution_count": null,
      "outputs": []
    },
    {
      "cell_type": "markdown",
      "metadata": {
        "id": "7cQxY4BXtiF1"
      },
      "source": [
        "## Construction de variables calculées\n"
      ]
    },
    {
      "cell_type": "code",
      "metadata": {
        "id": "3aEjOwU-8A9a"
      },
      "source": [
        "# création d'un vecteur à partir d'un DF\n",
        "Xn=df['X1']*numpy.log(df[\"X2\"])      \n",
        "\n",
        "# nouveau DF on ajoute le vecteur Xn à df en tant que colonne \"axis=1\"\n",
        "new_df=pd.concat([df,Xn],axis=1 )  \n",
        "\n",
        "# Création d'une indicatrice pour codé la variable sex\n",
        "code =pd.Series(np.zeros(df.shape[0]))\n",
        "code[df['sex']=='masculin']=1\n",
        "\n",
        "# Création d'une colonne en fonction d'une autre\n",
        "df[\"date_recession\"] = [1 if s >= 400 else 0 for s in  df[\"Volume\"]]\n",
        "\n",
        "# Donne le même resultat avec where\n",
        "df[\"date_recession\"] = np.where (df['Volume'] >= 400, 1, 0)\n",
        "\n",
        "# Création d'une constante(2)\n",
        "df = df.assign(X1 = 2)\n",
        "\n",
        "# On remplace les valeurs manquantes de la variable X1 par une liste ou df...\n",
        "df.loc[df[\"X1\"].isnull(), 'X1'] = data\n",
        "\n",
        "# Création d'une variable à partir des 2 modalités(oui et non) de 2 autres variables\n",
        "# renvoit oui si oui sinon non\n",
        "# l'ordre à une importantance\n",
        "conditionlist = [\n",
        "    (df['Définition détaillée: 1'] == 'oui') ,\n",
        "    (df['Définition détaillée: 2']=='oui')]\n",
        "choicelist = ['oui', 'oui']\n",
        "df['Définition détaillée par téléphone'] = np.select(conditionlist, choicelist, default='non')\n",
        "\n",
        "# Autres exemple\n",
        "conditionlist = [\n",
        "    (df['aielpr00'] == 1) &  (df['aielpr01']==1) & (df['aielpr02']==1)]\n",
        "choicelist = ['oui']\n",
        "df['Eligibilité PR'] = np.select(conditionlist, choicelist, default='non')\n",
        "\n",
        "# Modifie la modalité 'ne repond pas' en 'Injoignable' de la variable 'état du dossier'\n",
        "df['Etat du dossier'] = df['Etat du dossier'].apply(lambda x: 'Injoignable' if x == 'Injoignable ' else x)"
      ],
      "execution_count": null,
      "outputs": []
    },
    {
      "cell_type": "markdown",
      "metadata": {
        "id": "KEp6oj1Nt6I1"
      },
      "source": [
        "## Les graphique de Pandas"
      ]
    },
    {
      "cell_type": "markdown",
      "metadata": {
        "id": "0NbVPF0VuC4t"
      },
      "source": [
        "Pandas propose des commandes simples qui encapsulent l'appel à des procédures.      \n",
        "Il faut toutefois importer matplotlib pour que l'ensemble fonctionne correctement."
      ]
    },
    {
      "cell_type": "code",
      "metadata": {
        "id": "8N1Zbvek8BAv"
      },
      "source": [
        "%matplotlib inline \n",
        "#implique que l'on veut voir apparaître les graphiques dans le notebook\n",
        "\n",
        "# histogramme de la variable âge\n",
        "df.hist(column='age')             \n",
        "\n",
        "# density plot\n",
        "df['X1'].plot.kde()                \n",
        "\n",
        " #crée autant d'histogramme que X2 a de modalité\n",
        "df.hist(column='age',by = 'X2')    \n",
        "\n",
        "# crée 2 histogramme (sex) pr la variable 'age'\n",
        "df.boxplot(column='age', by=\"sex\" )    "
      ],
      "execution_count": null,
      "outputs": []
    },
    {
      "cell_type": "markdown",
      "metadata": {
        "id": "nvVXEqQEutoY"
      },
      "source": [
        "## Index"
      ]
    },
    {
      "cell_type": "code",
      "metadata": {
        "id": "wgwx99KCbj5F"
      },
      "source": [
        "# tranformer la colonne index en colonne normale\n",
        "df['index']=df.index\n",
        "\n",
        "# réinitialisation de l'index\n",
        "df.reset_index\n",
        "\n",
        "# Redemmarer des index à partir de 0\n",
        "df = df.reset_index() \n",
        "df = df.drop(columns=['index'])"
      ],
      "execution_count": null,
      "outputs": []
    },
    {
      "cell_type": "markdown",
      "source": [
        "## Liste isin"
      ],
      "metadata": {
        "id": "3iqEtJ5JOWsL"
      }
    },
    {
      "cell_type": "code",
      "source": [
        "# Renvoie un booleen dit si chaque index est dans la liste de pays\n",
        "df.index.isin(liste_pays) "
      ],
      "metadata": {
        "id": "bDZupFwkOV8X"
      },
      "execution_count": null,
      "outputs": []
    },
    {
      "cell_type": "markdown",
      "source": [
        "## Données manquantes"
      ],
      "metadata": {
        "id": "Z82U-D-37dje"
      }
    },
    {
      "cell_type": "code",
      "source": [
        "# Remplace toutes les données manquantes par 0*\n",
        "df =df.fillna(0)"
      ],
      "metadata": {
        "id": "TgXzajUK7kiz"
      },
      "execution_count": null,
      "outputs": []
    }
  ]
}