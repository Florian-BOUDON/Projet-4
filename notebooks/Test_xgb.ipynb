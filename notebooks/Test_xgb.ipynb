{
 "cells": [
  {
   "cell_type": "code",
   "execution_count": 1,
   "metadata": {
    "collapsed": true
   },
   "outputs": [],
   "source": [
    "import pandas as pd\n",
    "import numpy as np\n",
    "import xgboost"
   ]
  },
  {
   "cell_type": "code",
   "execution_count": 2,
   "outputs": [
    {
     "data": {
      "text/plain": "      Unnamed: 0     years  NumberofFloors  NumberofBuildings  \\\n0              0  4.488636        2.484907                0.0   \n1              1  2.995732        2.397895                0.0   \n2              2  3.850148        3.713572                0.0   \n3              3  4.499810        2.302585                0.0   \n4              4  3.583519        2.890372                0.0   \n...          ...       ...             ...                ...   \n3339        3363  3.258097        0.000000                0.0   \n3340        3364  2.484907        0.000000                0.0   \n3341        3365  3.737670        0.000000                0.0   \n3342        3366  3.295837        0.000000                0.0   \n3343        3367  4.356709        0.000000                0.0   \n\n      PropertyGFATotal  SecondLargestPropertyUseTypeGFA  \\\n0            11.390012                         0.000000   \n1            11.547964                         9.620063   \n2            13.770628                         0.000000   \n3            11.023861                         0.000000   \n4            12.075850                        11.127395   \n...                ...                              ...   \n3339          9.416867                         0.000000   \n3340          9.680344                         0.000000   \n3341          9.484709                         8.625868   \n3342          9.554001                         8.779711   \n3343          9.812359                         8.987197   \n\n      ThirdLargestPropertyUseTypeGFA   BulType       PPT       Zip   Council  \\\n0                           0.000000  1.386294  1.098612  2.302585  1.791759   \n1                           8.438583  1.386294  1.098612  2.302585  1.791759   \n2                           0.000000  1.386294  1.098612  2.302585  1.791759   \n3                           0.000000  1.386294  1.098612  2.302585  1.791759   \n4                           0.000000  1.386294  1.098612  3.332205  1.791759   \n...                              ...       ...       ...       ...       ...   \n3339                        0.000000  1.609438  2.397895  4.007333  0.000000   \n3340                        0.000000  1.609438  2.484907  4.007333  0.000000   \n3341                        0.000000  1.609438  2.484907  4.007333  1.791759   \n3342                        6.182085  1.609438  2.302585  4.007333  0.000000   \n3343                        7.010312  1.609438  2.302585  4.007333  0.000000   \n\n        Voisin  \n0     1.791759  \n1     1.791759  \n2     1.791759  \n3     1.791759  \n4     1.791759  \n...        ...  \n3339  2.197225  \n3340  1.791759  \n3341  2.397895  \n3342  2.197225  \n3343  2.197225  \n\n[3344 rows x 12 columns]",
      "text/html": "<div>\n<style scoped>\n    .dataframe tbody tr th:only-of-type {\n        vertical-align: middle;\n    }\n\n    .dataframe tbody tr th {\n        vertical-align: top;\n    }\n\n    .dataframe thead th {\n        text-align: right;\n    }\n</style>\n<table border=\"1\" class=\"dataframe\">\n  <thead>\n    <tr style=\"text-align: right;\">\n      <th></th>\n      <th>Unnamed: 0</th>\n      <th>years</th>\n      <th>NumberofFloors</th>\n      <th>NumberofBuildings</th>\n      <th>PropertyGFATotal</th>\n      <th>SecondLargestPropertyUseTypeGFA</th>\n      <th>ThirdLargestPropertyUseTypeGFA</th>\n      <th>BulType</th>\n      <th>PPT</th>\n      <th>Zip</th>\n      <th>Council</th>\n      <th>Voisin</th>\n    </tr>\n  </thead>\n  <tbody>\n    <tr>\n      <th>0</th>\n      <td>0</td>\n      <td>4.488636</td>\n      <td>2.484907</td>\n      <td>0.0</td>\n      <td>11.390012</td>\n      <td>0.000000</td>\n      <td>0.000000</td>\n      <td>1.386294</td>\n      <td>1.098612</td>\n      <td>2.302585</td>\n      <td>1.791759</td>\n      <td>1.791759</td>\n    </tr>\n    <tr>\n      <th>1</th>\n      <td>1</td>\n      <td>2.995732</td>\n      <td>2.397895</td>\n      <td>0.0</td>\n      <td>11.547964</td>\n      <td>9.620063</td>\n      <td>8.438583</td>\n      <td>1.386294</td>\n      <td>1.098612</td>\n      <td>2.302585</td>\n      <td>1.791759</td>\n      <td>1.791759</td>\n    </tr>\n    <tr>\n      <th>2</th>\n      <td>2</td>\n      <td>3.850148</td>\n      <td>3.713572</td>\n      <td>0.0</td>\n      <td>13.770628</td>\n      <td>0.000000</td>\n      <td>0.000000</td>\n      <td>1.386294</td>\n      <td>1.098612</td>\n      <td>2.302585</td>\n      <td>1.791759</td>\n      <td>1.791759</td>\n    </tr>\n    <tr>\n      <th>3</th>\n      <td>3</td>\n      <td>4.499810</td>\n      <td>2.302585</td>\n      <td>0.0</td>\n      <td>11.023861</td>\n      <td>0.000000</td>\n      <td>0.000000</td>\n      <td>1.386294</td>\n      <td>1.098612</td>\n      <td>2.302585</td>\n      <td>1.791759</td>\n      <td>1.791759</td>\n    </tr>\n    <tr>\n      <th>4</th>\n      <td>4</td>\n      <td>3.583519</td>\n      <td>2.890372</td>\n      <td>0.0</td>\n      <td>12.075850</td>\n      <td>11.127395</td>\n      <td>0.000000</td>\n      <td>1.386294</td>\n      <td>1.098612</td>\n      <td>3.332205</td>\n      <td>1.791759</td>\n      <td>1.791759</td>\n    </tr>\n    <tr>\n      <th>...</th>\n      <td>...</td>\n      <td>...</td>\n      <td>...</td>\n      <td>...</td>\n      <td>...</td>\n      <td>...</td>\n      <td>...</td>\n      <td>...</td>\n      <td>...</td>\n      <td>...</td>\n      <td>...</td>\n      <td>...</td>\n    </tr>\n    <tr>\n      <th>3339</th>\n      <td>3363</td>\n      <td>3.258097</td>\n      <td>0.000000</td>\n      <td>0.0</td>\n      <td>9.416867</td>\n      <td>0.000000</td>\n      <td>0.000000</td>\n      <td>1.609438</td>\n      <td>2.397895</td>\n      <td>4.007333</td>\n      <td>0.000000</td>\n      <td>2.197225</td>\n    </tr>\n    <tr>\n      <th>3340</th>\n      <td>3364</td>\n      <td>2.484907</td>\n      <td>0.000000</td>\n      <td>0.0</td>\n      <td>9.680344</td>\n      <td>0.000000</td>\n      <td>0.000000</td>\n      <td>1.609438</td>\n      <td>2.484907</td>\n      <td>4.007333</td>\n      <td>0.000000</td>\n      <td>1.791759</td>\n    </tr>\n    <tr>\n      <th>3341</th>\n      <td>3365</td>\n      <td>3.737670</td>\n      <td>0.000000</td>\n      <td>0.0</td>\n      <td>9.484709</td>\n      <td>8.625868</td>\n      <td>0.000000</td>\n      <td>1.609438</td>\n      <td>2.484907</td>\n      <td>4.007333</td>\n      <td>1.791759</td>\n      <td>2.397895</td>\n    </tr>\n    <tr>\n      <th>3342</th>\n      <td>3366</td>\n      <td>3.295837</td>\n      <td>0.000000</td>\n      <td>0.0</td>\n      <td>9.554001</td>\n      <td>8.779711</td>\n      <td>6.182085</td>\n      <td>1.609438</td>\n      <td>2.302585</td>\n      <td>4.007333</td>\n      <td>0.000000</td>\n      <td>2.197225</td>\n    </tr>\n    <tr>\n      <th>3343</th>\n      <td>3367</td>\n      <td>4.356709</td>\n      <td>0.000000</td>\n      <td>0.0</td>\n      <td>9.812359</td>\n      <td>8.987197</td>\n      <td>7.010312</td>\n      <td>1.609438</td>\n      <td>2.302585</td>\n      <td>4.007333</td>\n      <td>0.000000</td>\n      <td>2.197225</td>\n    </tr>\n  </tbody>\n</table>\n<p>3344 rows × 12 columns</p>\n</div>"
     },
     "execution_count": 2,
     "metadata": {},
     "output_type": "execute_result"
    }
   ],
   "source": [
    "df_float = pd.read_csv(\"df_float_log.csv\",sep=\";\")\n",
    "df_float=df_float.drop(columns=[\"Unnamed: 0\"])\n",
    "df_float"
   ],
   "metadata": {
    "collapsed": false
   }
  },
  {
   "cell_type": "code",
   "execution_count": 4,
   "outputs": [
    {
     "data": {
      "text/plain": "      Unnamed: 0  SiteEnergyUse(kBtu)\n0              0            15.793246\n1              1            15.942305\n2              2            18.100297\n3              3            15.731636\n4              4            16.466822\n...          ...                  ...\n3339        3363            13.652692\n3340        3364            13.764508\n3341        3365            15.567471\n3342        3366            13.486272\n3343        3367            13.957788\n\n[3344 rows x 2 columns]",
      "text/html": "<div>\n<style scoped>\n    .dataframe tbody tr th:only-of-type {\n        vertical-align: middle;\n    }\n\n    .dataframe tbody tr th {\n        vertical-align: top;\n    }\n\n    .dataframe thead th {\n        text-align: right;\n    }\n</style>\n<table border=\"1\" class=\"dataframe\">\n  <thead>\n    <tr style=\"text-align: right;\">\n      <th></th>\n      <th>Unnamed: 0</th>\n      <th>SiteEnergyUse(kBtu)</th>\n    </tr>\n  </thead>\n  <tbody>\n    <tr>\n      <th>0</th>\n      <td>0</td>\n      <td>15.793246</td>\n    </tr>\n    <tr>\n      <th>1</th>\n      <td>1</td>\n      <td>15.942305</td>\n    </tr>\n    <tr>\n      <th>2</th>\n      <td>2</td>\n      <td>18.100297</td>\n    </tr>\n    <tr>\n      <th>3</th>\n      <td>3</td>\n      <td>15.731636</td>\n    </tr>\n    <tr>\n      <th>4</th>\n      <td>4</td>\n      <td>16.466822</td>\n    </tr>\n    <tr>\n      <th>...</th>\n      <td>...</td>\n      <td>...</td>\n    </tr>\n    <tr>\n      <th>3339</th>\n      <td>3363</td>\n      <td>13.652692</td>\n    </tr>\n    <tr>\n      <th>3340</th>\n      <td>3364</td>\n      <td>13.764508</td>\n    </tr>\n    <tr>\n      <th>3341</th>\n      <td>3365</td>\n      <td>15.567471</td>\n    </tr>\n    <tr>\n      <th>3342</th>\n      <td>3366</td>\n      <td>13.486272</td>\n    </tr>\n    <tr>\n      <th>3343</th>\n      <td>3367</td>\n      <td>13.957788</td>\n    </tr>\n  </tbody>\n</table>\n<p>3344 rows × 2 columns</p>\n</div>"
     },
     "execution_count": 4,
     "metadata": {},
     "output_type": "execute_result"
    }
   ],
   "source": [
    "target = pd.read_csv(\"target_log.csv\",sep=\";\")\n",
    "target=target.drop(columns=[\"Unnamed: 0\"])\n",
    "target"
   ],
   "metadata": {
    "collapsed": false
   }
  },
  {
   "cell_type": "code",
   "execution_count": 6,
   "outputs": [],
   "source": [
    "from xgboost import XGBRegressor"
   ],
   "metadata": {
    "collapsed": false
   }
  },
  {
   "cell_type": "code",
   "execution_count": 9,
   "outputs": [],
   "source": [
    "# Création de quatre DF: train et test\n",
    "from sklearn.model_selection import train_test_split\n",
    "\n",
    "X_train, X_test, y_train, y_test = train_test_split(df_float,target, test_size=0.2,\n",
    "                                                    random_state=0)"
   ],
   "metadata": {
    "collapsed": false
   }
  },
  {
   "cell_type": "code",
   "execution_count": 7,
   "outputs": [
    {
     "data": {
      "text/plain": "XGBRegressor(base_score=None, booster=None, callbacks=None,\n             colsample_bylevel=None, colsample_bynode=None,\n             colsample_bytree=None, early_stopping_rounds=None,\n             enable_categorical=False, eval_metric=None, feature_types=None,\n             gamma=None, gpu_id=None, grow_policy=None, importance_type=None,\n             interaction_constraints=None, learning_rate=None, max_bin=None,\n             max_cat_threshold=None, max_cat_to_onehot=None,\n             max_delta_step=None, max_depth=None, max_leaves=None,\n             min_child_weight=None, missing=nan, monotone_constraints=None,\n             n_estimators=100, n_jobs=None, num_parallel_tree=None,\n             predictor=None, random_state=None, ...)",
      "text/html": "<style>#sk-container-id-1 {color: black;background-color: white;}#sk-container-id-1 pre{padding: 0;}#sk-container-id-1 div.sk-toggleable {background-color: white;}#sk-container-id-1 label.sk-toggleable__label {cursor: pointer;display: block;width: 100%;margin-bottom: 0;padding: 0.3em;box-sizing: border-box;text-align: center;}#sk-container-id-1 label.sk-toggleable__label-arrow:before {content: \"▸\";float: left;margin-right: 0.25em;color: #696969;}#sk-container-id-1 label.sk-toggleable__label-arrow:hover:before {color: black;}#sk-container-id-1 div.sk-estimator:hover label.sk-toggleable__label-arrow:before {color: black;}#sk-container-id-1 div.sk-toggleable__content {max-height: 0;max-width: 0;overflow: hidden;text-align: left;background-color: #f0f8ff;}#sk-container-id-1 div.sk-toggleable__content pre {margin: 0.2em;color: black;border-radius: 0.25em;background-color: #f0f8ff;}#sk-container-id-1 input.sk-toggleable__control:checked~div.sk-toggleable__content {max-height: 200px;max-width: 100%;overflow: auto;}#sk-container-id-1 input.sk-toggleable__control:checked~label.sk-toggleable__label-arrow:before {content: \"▾\";}#sk-container-id-1 div.sk-estimator input.sk-toggleable__control:checked~label.sk-toggleable__label {background-color: #d4ebff;}#sk-container-id-1 div.sk-label input.sk-toggleable__control:checked~label.sk-toggleable__label {background-color: #d4ebff;}#sk-container-id-1 input.sk-hidden--visually {border: 0;clip: rect(1px 1px 1px 1px);clip: rect(1px, 1px, 1px, 1px);height: 1px;margin: -1px;overflow: hidden;padding: 0;position: absolute;width: 1px;}#sk-container-id-1 div.sk-estimator {font-family: monospace;background-color: #f0f8ff;border: 1px dotted black;border-radius: 0.25em;box-sizing: border-box;margin-bottom: 0.5em;}#sk-container-id-1 div.sk-estimator:hover {background-color: #d4ebff;}#sk-container-id-1 div.sk-parallel-item::after {content: \"\";width: 100%;border-bottom: 1px solid gray;flex-grow: 1;}#sk-container-id-1 div.sk-label:hover label.sk-toggleable__label {background-color: #d4ebff;}#sk-container-id-1 div.sk-serial::before {content: \"\";position: absolute;border-left: 1px solid gray;box-sizing: border-box;top: 0;bottom: 0;left: 50%;z-index: 0;}#sk-container-id-1 div.sk-serial {display: flex;flex-direction: column;align-items: center;background-color: white;padding-right: 0.2em;padding-left: 0.2em;position: relative;}#sk-container-id-1 div.sk-item {position: relative;z-index: 1;}#sk-container-id-1 div.sk-parallel {display: flex;align-items: stretch;justify-content: center;background-color: white;position: relative;}#sk-container-id-1 div.sk-item::before, #sk-container-id-1 div.sk-parallel-item::before {content: \"\";position: absolute;border-left: 1px solid gray;box-sizing: border-box;top: 0;bottom: 0;left: 50%;z-index: -1;}#sk-container-id-1 div.sk-parallel-item {display: flex;flex-direction: column;z-index: 1;position: relative;background-color: white;}#sk-container-id-1 div.sk-parallel-item:first-child::after {align-self: flex-end;width: 50%;}#sk-container-id-1 div.sk-parallel-item:last-child::after {align-self: flex-start;width: 50%;}#sk-container-id-1 div.sk-parallel-item:only-child::after {width: 0;}#sk-container-id-1 div.sk-dashed-wrapped {border: 1px dashed gray;margin: 0 0.4em 0.5em 0.4em;box-sizing: border-box;padding-bottom: 0.4em;background-color: white;}#sk-container-id-1 div.sk-label label {font-family: monospace;font-weight: bold;display: inline-block;line-height: 1.2em;}#sk-container-id-1 div.sk-label-container {text-align: center;}#sk-container-id-1 div.sk-container {/* jupyter's `normalize.less` sets `[hidden] { display: none; }` but bootstrap.min.css set `[hidden] { display: none !important; }` so we also need the `!important` here to be able to override the default hidden behavior on the sphinx rendered scikit-learn.org. See: https://github.com/scikit-learn/scikit-learn/issues/21755 */display: inline-block !important;position: relative;}#sk-container-id-1 div.sk-text-repr-fallback {display: none;}</style><div id=\"sk-container-id-1\" class=\"sk-top-container\"><div class=\"sk-text-repr-fallback\"><pre>XGBRegressor(base_score=None, booster=None, callbacks=None,\n             colsample_bylevel=None, colsample_bynode=None,\n             colsample_bytree=None, early_stopping_rounds=None,\n             enable_categorical=False, eval_metric=None, feature_types=None,\n             gamma=None, gpu_id=None, grow_policy=None, importance_type=None,\n             interaction_constraints=None, learning_rate=None, max_bin=None,\n             max_cat_threshold=None, max_cat_to_onehot=None,\n             max_delta_step=None, max_depth=None, max_leaves=None,\n             min_child_weight=None, missing=nan, monotone_constraints=None,\n             n_estimators=100, n_jobs=None, num_parallel_tree=None,\n             predictor=None, random_state=None, ...)</pre><b>In a Jupyter environment, please rerun this cell to show the HTML representation or trust the notebook. <br />On GitHub, the HTML representation is unable to render, please try loading this page with nbviewer.org.</b></div><div class=\"sk-container\" hidden><div class=\"sk-item\"><div class=\"sk-estimator sk-toggleable\"><input class=\"sk-toggleable__control sk-hidden--visually\" id=\"sk-estimator-id-1\" type=\"checkbox\" checked><label for=\"sk-estimator-id-1\" class=\"sk-toggleable__label sk-toggleable__label-arrow\">XGBRegressor</label><div class=\"sk-toggleable__content\"><pre>XGBRegressor(base_score=None, booster=None, callbacks=None,\n             colsample_bylevel=None, colsample_bynode=None,\n             colsample_bytree=None, early_stopping_rounds=None,\n             enable_categorical=False, eval_metric=None, feature_types=None,\n             gamma=None, gpu_id=None, grow_policy=None, importance_type=None,\n             interaction_constraints=None, learning_rate=None, max_bin=None,\n             max_cat_threshold=None, max_cat_to_onehot=None,\n             max_delta_step=None, max_depth=None, max_leaves=None,\n             min_child_weight=None, missing=nan, monotone_constraints=None,\n             n_estimators=100, n_jobs=None, num_parallel_tree=None,\n             predictor=None, random_state=None, ...)</pre></div></div></div></div></div>"
     },
     "execution_count": 7,
     "metadata": {},
     "output_type": "execute_result"
    }
   ],
   "source": [
    "XGBRegressor()"
   ],
   "metadata": {
    "collapsed": false
   }
  },
  {
   "cell_type": "code",
   "execution_count": 15,
   "outputs": [
    {
     "name": "stdout",
     "output_type": "stream",
     "text": [
      "[18:30:44] WARNING: C:/buildkite-agent/builds/buildkite-windows-cpu-autoscaling-group-i-030221e36e1a46bfb-1/xgboost/xgboost-ci-windows/src/learner.cc:767: \n",
      "Parameters: { \"gamma\", \"max_depth\" } are not used.\n",
      "\n",
      "[18:30:44] WARNING: C:/buildkite-agent/builds/buildkite-windows-cpu-autoscaling-group-i-030221e36e1a46bfb-1/xgboost/xgboost-ci-windows/src/learner.cc:767: \n",
      "Parameters: { \"gamma\", \"max_depth\" } are not used.\n",
      "\n",
      "[18:30:44] WARNING: C:/buildkite-agent/builds/buildkite-windows-cpu-autoscaling-group-i-030221e36e1a46bfb-1/xgboost/xgboost-ci-windows/src/learner.cc:767: \n",
      "Parameters: { \"gamma\", \"max_depth\" } are not used.\n",
      "\n",
      "[18:30:44] WARNING: C:/buildkite-agent/builds/buildkite-windows-cpu-autoscaling-group-i-030221e36e1a46bfb-1/xgboost/xgboost-ci-windows/src/learner.cc:767: \n",
      "Parameters: { \"gamma\", \"max_depth\" } are not used.\n",
      "\n",
      "[18:30:44] WARNING: C:/buildkite-agent/builds/buildkite-windows-cpu-autoscaling-group-i-030221e36e1a46bfb-1/xgboost/xgboost-ci-windows/src/learner.cc:767: \n",
      "Parameters: { \"gamma\", \"max_depth\" } are not used.\n",
      "\n",
      "[18:30:44] WARNING: C:/buildkite-agent/builds/buildkite-windows-cpu-autoscaling-group-i-030221e36e1a46bfb-1/xgboost/xgboost-ci-windows/src/learner.cc:767: \n",
      "Parameters: { \"gamma\", \"max_depth\" } are not used.\n",
      "\n",
      "[18:30:44] WARNING: C:/buildkite-agent/builds/buildkite-windows-cpu-autoscaling-group-i-030221e36e1a46bfb-1/xgboost/xgboost-ci-windows/src/learner.cc:767: \n",
      "Parameters: { \"gamma\", \"max_depth\" } are not used.\n",
      "\n",
      "[18:30:44] WARNING: C:/buildkite-agent/builds/buildkite-windows-cpu-autoscaling-group-i-030221e36e1a46bfb-1/xgboost/xgboost-ci-windows/src/learner.cc:767: \n",
      "Parameters: { \"gamma\", \"max_depth\" } are not used.\n",
      "\n",
      "[18:30:44] WARNING: C:/buildkite-agent/builds/buildkite-windows-cpu-autoscaling-group-i-030221e36e1a46bfb-1/xgboost/xgboost-ci-windows/src/learner.cc:767: \n",
      "Parameters: { \"gamma\", \"max_depth\" } are not used.\n",
      "\n",
      "[18:30:44] WARNING: C:/buildkite-agent/builds/buildkite-windows-cpu-autoscaling-group-i-030221e36e1a46bfb-1/xgboost/xgboost-ci-windows/src/learner.cc:767: \n",
      "Parameters: { \"gamma\", \"max_depth\" } are not used.\n",
      "\n",
      "[18:30:44] WARNING: C:/buildkite-agent/builds/buildkite-windows-cpu-autoscaling-group-i-030221e36e1a46bfb-1/xgboost/xgboost-ci-windows/src/learner.cc:767: \n",
      "Parameters: { \"gamma\", \"max_depth\" } are not used.\n",
      "\n",
      "[18:30:44] WARNING: C:/buildkite-agent/builds/buildkite-windows-cpu-autoscaling-group-i-030221e36e1a46bfb-1/xgboost/xgboost-ci-windows/src/learner.cc:767: \n",
      "Parameters: { \"gamma\", \"max_depth\" } are not used.\n",
      "\n",
      "[18:30:44] WARNING: C:/buildkite-agent/builds/buildkite-windows-cpu-autoscaling-group-i-030221e36e1a46bfb-1/xgboost/xgboost-ci-windows/src/learner.cc:767: \n",
      "Parameters: { \"gamma\", \"max_depth\" } are not used.\n",
      "\n",
      "[18:30:44] WARNING: C:/buildkite-agent/builds/buildkite-windows-cpu-autoscaling-group-i-030221e36e1a46bfb-1/xgboost/xgboost-ci-windows/src/learner.cc:767: \n",
      "Parameters: { \"gamma\", \"max_depth\" } are not used.\n",
      "\n",
      "[18:30:44] WARNING: C:/buildkite-agent/builds/buildkite-windows-cpu-autoscaling-group-i-030221e36e1a46bfb-1/xgboost/xgboost-ci-windows/src/learner.cc:767: \n",
      "Parameters: { \"gamma\", \"max_depth\" } are not used.\n",
      "\n",
      "[18:30:44] WARNING: C:/buildkite-agent/builds/buildkite-windows-cpu-autoscaling-group-i-030221e36e1a46bfb-1/xgboost/xgboost-ci-windows/src/learner.cc:767: \n",
      "Parameters: { \"gamma\", \"max_depth\" } are not used.\n",
      "\n",
      "[18:30:44] WARNING: C:/buildkite-agent/builds/buildkite-windows-cpu-autoscaling-group-i-030221e36e1a46bfb-1/xgboost/xgboost-ci-windows/src/learner.cc:767: \n",
      "Parameters: { \"gamma\", \"max_depth\" } are not used.\n",
      "\n",
      "[18:30:45] WARNING: C:/buildkite-agent/builds/buildkite-windows-cpu-autoscaling-group-i-030221e36e1a46bfb-1/xgboost/xgboost-ci-windows/src/learner.cc:767: \n",
      "Parameters: { \"gamma\", \"max_depth\" } are not used.\n",
      "\n",
      "[18:30:45] WARNING: C:/buildkite-agent/builds/buildkite-windows-cpu-autoscaling-group-i-030221e36e1a46bfb-1/xgboost/xgboost-ci-windows/src/learner.cc:767: \n",
      "Parameters: { \"gamma\", \"max_depth\" } are not used.\n",
      "\n",
      "[18:30:45] WARNING: C:/buildkite-agent/builds/buildkite-windows-cpu-autoscaling-group-i-030221e36e1a46bfb-1/xgboost/xgboost-ci-windows/src/learner.cc:767: \n",
      "Parameters: { \"gamma\", \"max_depth\" } are not used.\n",
      "\n",
      "[18:30:45] WARNING: C:/buildkite-agent/builds/buildkite-windows-cpu-autoscaling-group-i-030221e36e1a46bfb-1/xgboost/xgboost-ci-windows/src/learner.cc:767: \n",
      "Parameters: { \"gamma\", \"max_depth\" } are not used.\n",
      "\n",
      "[18:30:45] WARNING: C:/buildkite-agent/builds/buildkite-windows-cpu-autoscaling-group-i-030221e36e1a46bfb-1/xgboost/xgboost-ci-windows/src/learner.cc:767: \n",
      "Parameters: { \"gamma\", \"max_depth\" } are not used.\n",
      "\n",
      "[18:30:45] WARNING: C:/buildkite-agent/builds/buildkite-windows-cpu-autoscaling-group-i-030221e36e1a46bfb-1/xgboost/xgboost-ci-windows/src/learner.cc:767: \n",
      "Parameters: { \"gamma\", \"max_depth\" } are not used.\n",
      "\n",
      "[18:30:45] WARNING: C:/buildkite-agent/builds/buildkite-windows-cpu-autoscaling-group-i-030221e36e1a46bfb-1/xgboost/xgboost-ci-windows/src/learner.cc:767: \n",
      "Parameters: { \"gamma\", \"max_depth\" } are not used.\n",
      "\n",
      "[18:30:45] WARNING: C:/buildkite-agent/builds/buildkite-windows-cpu-autoscaling-group-i-030221e36e1a46bfb-1/xgboost/xgboost-ci-windows/src/learner.cc:767: \n",
      "Parameters: { \"gamma\", \"max_depth\" } are not used.\n",
      "\n",
      "[18:30:45] WARNING: C:/buildkite-agent/builds/buildkite-windows-cpu-autoscaling-group-i-030221e36e1a46bfb-1/xgboost/xgboost-ci-windows/src/learner.cc:767: \n",
      "Parameters: { \"gamma\", \"max_depth\" } are not used.\n",
      "\n",
      "[18:30:45] WARNING: C:/buildkite-agent/builds/buildkite-windows-cpu-autoscaling-group-i-030221e36e1a46bfb-1/xgboost/xgboost-ci-windows/src/learner.cc:767: \n",
      "Parameters: { \"gamma\", \"max_depth\" } are not used.\n",
      "\n",
      "[18:30:45] WARNING: C:/buildkite-agent/builds/buildkite-windows-cpu-autoscaling-group-i-030221e36e1a46bfb-1/xgboost/xgboost-ci-windows/src/learner.cc:767: \n",
      "Parameters: { \"gamma\", \"max_depth\" } are not used.\n",
      "\n",
      "[18:30:45] WARNING: C:/buildkite-agent/builds/buildkite-windows-cpu-autoscaling-group-i-030221e36e1a46bfb-1/xgboost/xgboost-ci-windows/src/learner.cc:767: \n",
      "Parameters: { \"gamma\", \"max_depth\" } are not used.\n",
      "\n",
      "[18:30:45] WARNING: C:/buildkite-agent/builds/buildkite-windows-cpu-autoscaling-group-i-030221e36e1a46bfb-1/xgboost/xgboost-ci-windows/src/learner.cc:767: \n",
      "Parameters: { \"gamma\", \"max_depth\" } are not used.\n",
      "\n",
      "[18:30:45] WARNING: C:/buildkite-agent/builds/buildkite-windows-cpu-autoscaling-group-i-030221e36e1a46bfb-1/xgboost/xgboost-ci-windows/src/learner.cc:767: \n",
      "Parameters: { \"gamma\", \"max_depth\" } are not used.\n",
      "\n",
      "[18:30:45] WARNING: C:/buildkite-agent/builds/buildkite-windows-cpu-autoscaling-group-i-030221e36e1a46bfb-1/xgboost/xgboost-ci-windows/src/learner.cc:767: \n",
      "Parameters: { \"gamma\", \"max_depth\" } are not used.\n",
      "\n",
      "[18:30:45] WARNING: C:/buildkite-agent/builds/buildkite-windows-cpu-autoscaling-group-i-030221e36e1a46bfb-1/xgboost/xgboost-ci-windows/src/learner.cc:767: \n",
      "Parameters: { \"gamma\", \"max_depth\" } are not used.\n",
      "\n",
      "[18:30:45] WARNING: C:/buildkite-agent/builds/buildkite-windows-cpu-autoscaling-group-i-030221e36e1a46bfb-1/xgboost/xgboost-ci-windows/src/learner.cc:767: \n",
      "Parameters: { \"gamma\", \"max_depth\" } are not used.\n",
      "\n",
      "[18:30:45] WARNING: C:/buildkite-agent/builds/buildkite-windows-cpu-autoscaling-group-i-030221e36e1a46bfb-1/xgboost/xgboost-ci-windows/src/learner.cc:767: \n",
      "Parameters: { \"gamma\", \"max_depth\" } are not used.\n",
      "\n",
      "[18:30:46] WARNING: C:/buildkite-agent/builds/buildkite-windows-cpu-autoscaling-group-i-030221e36e1a46bfb-1/xgboost/xgboost-ci-windows/src/learner.cc:767: \n",
      "Parameters: { \"gamma\", \"max_depth\" } are not used.\n",
      "\n",
      "[18:30:46] WARNING: C:/buildkite-agent/builds/buildkite-windows-cpu-autoscaling-group-i-030221e36e1a46bfb-1/xgboost/xgboost-ci-windows/src/learner.cc:767: \n",
      "Parameters: { \"gamma\", \"max_depth\" } are not used.\n",
      "\n",
      "[18:30:46] WARNING: C:/buildkite-agent/builds/buildkite-windows-cpu-autoscaling-group-i-030221e36e1a46bfb-1/xgboost/xgboost-ci-windows/src/learner.cc:767: \n",
      "Parameters: { \"gamma\", \"max_depth\" } are not used.\n",
      "\n",
      "[18:30:46] WARNING: C:/buildkite-agent/builds/buildkite-windows-cpu-autoscaling-group-i-030221e36e1a46bfb-1/xgboost/xgboost-ci-windows/src/learner.cc:767: \n",
      "Parameters: { \"gamma\", \"max_depth\" } are not used.\n",
      "\n",
      "[18:30:46] WARNING: C:/buildkite-agent/builds/buildkite-windows-cpu-autoscaling-group-i-030221e36e1a46bfb-1/xgboost/xgboost-ci-windows/src/learner.cc:767: \n",
      "Parameters: { \"gamma\", \"max_depth\" } are not used.\n",
      "\n",
      "[18:30:46] WARNING: C:/buildkite-agent/builds/buildkite-windows-cpu-autoscaling-group-i-030221e36e1a46bfb-1/xgboost/xgboost-ci-windows/src/learner.cc:767: \n",
      "Parameters: { \"gamma\", \"max_depth\" } are not used.\n",
      "\n",
      "[18:30:46] WARNING: C:/buildkite-agent/builds/buildkite-windows-cpu-autoscaling-group-i-030221e36e1a46bfb-1/xgboost/xgboost-ci-windows/src/learner.cc:767: \n",
      "Parameters: { \"gamma\", \"max_depth\" } are not used.\n",
      "\n",
      "[18:30:46] WARNING: C:/buildkite-agent/builds/buildkite-windows-cpu-autoscaling-group-i-030221e36e1a46bfb-1/xgboost/xgboost-ci-windows/src/learner.cc:767: \n",
      "Parameters: { \"gamma\", \"max_depth\" } are not used.\n",
      "\n",
      "[18:30:46] WARNING: C:/buildkite-agent/builds/buildkite-windows-cpu-autoscaling-group-i-030221e36e1a46bfb-1/xgboost/xgboost-ci-windows/src/learner.cc:767: \n",
      "Parameters: { \"gamma\", \"max_depth\" } are not used.\n",
      "\n",
      "[18:30:46] WARNING: C:/buildkite-agent/builds/buildkite-windows-cpu-autoscaling-group-i-030221e36e1a46bfb-1/xgboost/xgboost-ci-windows/src/learner.cc:767: \n",
      "Parameters: { \"gamma\", \"max_depth\" } are not used.\n",
      "\n",
      "[18:30:46] WARNING: C:/buildkite-agent/builds/buildkite-windows-cpu-autoscaling-group-i-030221e36e1a46bfb-1/xgboost/xgboost-ci-windows/src/learner.cc:767: \n",
      "Parameters: { \"gamma\", \"max_depth\" } are not used.\n",
      "\n",
      "[18:30:46] WARNING: C:/buildkite-agent/builds/buildkite-windows-cpu-autoscaling-group-i-030221e36e1a46bfb-1/xgboost/xgboost-ci-windows/src/learner.cc:767: \n",
      "Parameters: { \"gamma\", \"max_depth\" } are not used.\n",
      "\n",
      "[18:30:46] WARNING: C:/buildkite-agent/builds/buildkite-windows-cpu-autoscaling-group-i-030221e36e1a46bfb-1/xgboost/xgboost-ci-windows/src/learner.cc:767: \n",
      "Parameters: { \"gamma\", \"max_depth\" } are not used.\n",
      "\n",
      "[18:30:46] WARNING: C:/buildkite-agent/builds/buildkite-windows-cpu-autoscaling-group-i-030221e36e1a46bfb-1/xgboost/xgboost-ci-windows/src/learner.cc:767: \n",
      "Parameters: { \"gamma\", \"max_depth\" } are not used.\n",
      "\n",
      "[18:30:46] WARNING: C:/buildkite-agent/builds/buildkite-windows-cpu-autoscaling-group-i-030221e36e1a46bfb-1/xgboost/xgboost-ci-windows/src/learner.cc:767: \n",
      "Parameters: { \"gamma\", \"max_depth\" } are not used.\n",
      "\n",
      "[18:30:46] WARNING: C:/buildkite-agent/builds/buildkite-windows-cpu-autoscaling-group-i-030221e36e1a46bfb-1/xgboost/xgboost-ci-windows/src/learner.cc:767: \n",
      "Parameters: { \"gamma\", \"max_depth\" } are not used.\n",
      "\n",
      "[18:30:46] WARNING: C:/buildkite-agent/builds/buildkite-windows-cpu-autoscaling-group-i-030221e36e1a46bfb-1/xgboost/xgboost-ci-windows/src/learner.cc:767: \n",
      "Parameters: { \"gamma\", \"max_depth\" } are not used.\n",
      "\n",
      "[18:30:46] WARNING: C:/buildkite-agent/builds/buildkite-windows-cpu-autoscaling-group-i-030221e36e1a46bfb-1/xgboost/xgboost-ci-windows/src/learner.cc:767: \n",
      "Parameters: { \"gamma\", \"max_depth\" } are not used.\n",
      "\n",
      "[18:30:46] WARNING: C:/buildkite-agent/builds/buildkite-windows-cpu-autoscaling-group-i-030221e36e1a46bfb-1/xgboost/xgboost-ci-windows/src/learner.cc:767: \n",
      "Parameters: { \"gamma\", \"max_depth\" } are not used.\n",
      "\n",
      "[18:30:47] WARNING: C:/buildkite-agent/builds/buildkite-windows-cpu-autoscaling-group-i-030221e36e1a46bfb-1/xgboost/xgboost-ci-windows/src/learner.cc:767: \n",
      "Parameters: { \"gamma\", \"max_depth\" } are not used.\n",
      "\n",
      "[18:30:47] WARNING: C:/buildkite-agent/builds/buildkite-windows-cpu-autoscaling-group-i-030221e36e1a46bfb-1/xgboost/xgboost-ci-windows/src/learner.cc:767: \n",
      "Parameters: { \"gamma\", \"max_depth\" } are not used.\n",
      "\n",
      "[18:30:47] WARNING: C:/buildkite-agent/builds/buildkite-windows-cpu-autoscaling-group-i-030221e36e1a46bfb-1/xgboost/xgboost-ci-windows/src/learner.cc:767: \n",
      "Parameters: { \"gamma\", \"max_depth\" } are not used.\n",
      "\n",
      "[18:30:47] WARNING: C:/buildkite-agent/builds/buildkite-windows-cpu-autoscaling-group-i-030221e36e1a46bfb-1/xgboost/xgboost-ci-windows/src/learner.cc:767: \n",
      "Parameters: { \"gamma\", \"max_depth\" } are not used.\n",
      "\n",
      "[18:30:47] WARNING: C:/buildkite-agent/builds/buildkite-windows-cpu-autoscaling-group-i-030221e36e1a46bfb-1/xgboost/xgboost-ci-windows/src/learner.cc:767: \n",
      "Parameters: { \"gamma\", \"max_depth\" } are not used.\n",
      "\n",
      "[18:30:47] WARNING: C:/buildkite-agent/builds/buildkite-windows-cpu-autoscaling-group-i-030221e36e1a46bfb-1/xgboost/xgboost-ci-windows/src/learner.cc:767: \n",
      "Parameters: { \"gamma\", \"max_depth\" } are not used.\n",
      "\n",
      "[18:30:47] WARNING: C:/buildkite-agent/builds/buildkite-windows-cpu-autoscaling-group-i-030221e36e1a46bfb-1/xgboost/xgboost-ci-windows/src/learner.cc:767: \n",
      "Parameters: { \"gamma\", \"max_depth\" } are not used.\n",
      "\n",
      "[18:30:47] WARNING: C:/buildkite-agent/builds/buildkite-windows-cpu-autoscaling-group-i-030221e36e1a46bfb-1/xgboost/xgboost-ci-windows/src/learner.cc:767: \n",
      "Parameters: { \"gamma\", \"max_depth\" } are not used.\n",
      "\n",
      "[18:30:47] WARNING: C:/buildkite-agent/builds/buildkite-windows-cpu-autoscaling-group-i-030221e36e1a46bfb-1/xgboost/xgboost-ci-windows/src/learner.cc:767: \n",
      "Parameters: { \"gamma\", \"max_depth\" } are not used.\n",
      "\n",
      "[18:30:47] WARNING: C:/buildkite-agent/builds/buildkite-windows-cpu-autoscaling-group-i-030221e36e1a46bfb-1/xgboost/xgboost-ci-windows/src/learner.cc:767: \n",
      "Parameters: { \"gamma\", \"max_depth\" } are not used.\n",
      "\n",
      "[18:30:47] WARNING: C:/buildkite-agent/builds/buildkite-windows-cpu-autoscaling-group-i-030221e36e1a46bfb-1/xgboost/xgboost-ci-windows/src/learner.cc:767: \n",
      "Parameters: { \"gamma\", \"max_depth\" } are not used.\n",
      "\n",
      "[18:30:47] WARNING: C:/buildkite-agent/builds/buildkite-windows-cpu-autoscaling-group-i-030221e36e1a46bfb-1/xgboost/xgboost-ci-windows/src/learner.cc:767: \n",
      "Parameters: { \"gamma\", \"max_depth\" } are not used.\n",
      "\n",
      "[18:30:47] WARNING: C:/buildkite-agent/builds/buildkite-windows-cpu-autoscaling-group-i-030221e36e1a46bfb-1/xgboost/xgboost-ci-windows/src/learner.cc:767: \n",
      "Parameters: { \"gamma\", \"max_depth\" } are not used.\n",
      "\n",
      "[18:30:47] WARNING: C:/buildkite-agent/builds/buildkite-windows-cpu-autoscaling-group-i-030221e36e1a46bfb-1/xgboost/xgboost-ci-windows/src/learner.cc:767: \n",
      "Parameters: { \"gamma\", \"max_depth\" } are not used.\n",
      "\n",
      "[18:30:47] WARNING: C:/buildkite-agent/builds/buildkite-windows-cpu-autoscaling-group-i-030221e36e1a46bfb-1/xgboost/xgboost-ci-windows/src/learner.cc:767: \n",
      "Parameters: { \"gamma\", \"max_depth\" } are not used.\n",
      "\n",
      "[18:30:48] WARNING: C:/buildkite-agent/builds/buildkite-windows-cpu-autoscaling-group-i-030221e36e1a46bfb-1/xgboost/xgboost-ci-windows/src/learner.cc:767: \n",
      "Parameters: { \"gamma\", \"max_depth\" } are not used.\n",
      "\n",
      "[18:30:48] WARNING: C:/buildkite-agent/builds/buildkite-windows-cpu-autoscaling-group-i-030221e36e1a46bfb-1/xgboost/xgboost-ci-windows/src/learner.cc:767: \n",
      "Parameters: { \"gamma\", \"max_depth\" } are not used.\n",
      "\n",
      "[18:30:48] WARNING: C:/buildkite-agent/builds/buildkite-windows-cpu-autoscaling-group-i-030221e36e1a46bfb-1/xgboost/xgboost-ci-windows/src/learner.cc:767: \n",
      "Parameters: { \"gamma\", \"max_depth\" } are not used.\n",
      "\n",
      "[18:30:48] WARNING: C:/buildkite-agent/builds/buildkite-windows-cpu-autoscaling-group-i-030221e36e1a46bfb-1/xgboost/xgboost-ci-windows/src/learner.cc:767: \n",
      "Parameters: { \"gamma\", \"max_depth\" } are not used.\n",
      "\n",
      "[18:30:48] WARNING: C:/buildkite-agent/builds/buildkite-windows-cpu-autoscaling-group-i-030221e36e1a46bfb-1/xgboost/xgboost-ci-windows/src/learner.cc:767: \n",
      "Parameters: { \"gamma\", \"max_depth\" } are not used.\n",
      "\n",
      "[18:30:48] WARNING: C:/buildkite-agent/builds/buildkite-windows-cpu-autoscaling-group-i-030221e36e1a46bfb-1/xgboost/xgboost-ci-windows/src/learner.cc:767: \n",
      "Parameters: { \"gamma\", \"max_depth\" } are not used.\n",
      "\n",
      "[18:30:48] WARNING: C:/buildkite-agent/builds/buildkite-windows-cpu-autoscaling-group-i-030221e36e1a46bfb-1/xgboost/xgboost-ci-windows/src/learner.cc:767: \n",
      "Parameters: { \"gamma\", \"max_depth\" } are not used.\n",
      "\n",
      "[18:30:48] WARNING: C:/buildkite-agent/builds/buildkite-windows-cpu-autoscaling-group-i-030221e36e1a46bfb-1/xgboost/xgboost-ci-windows/src/learner.cc:767: \n",
      "Parameters: { \"gamma\", \"max_depth\" } are not used.\n",
      "\n",
      "[18:30:48] WARNING: C:/buildkite-agent/builds/buildkite-windows-cpu-autoscaling-group-i-030221e36e1a46bfb-1/xgboost/xgboost-ci-windows/src/learner.cc:767: \n",
      "Parameters: { \"gamma\", \"max_depth\" } are not used.\n",
      "\n",
      "[18:30:48] WARNING: C:/buildkite-agent/builds/buildkite-windows-cpu-autoscaling-group-i-030221e36e1a46bfb-1/xgboost/xgboost-ci-windows/src/learner.cc:767: \n",
      "Parameters: { \"gamma\", \"max_depth\" } are not used.\n",
      "\n",
      "[18:30:48] WARNING: C:/buildkite-agent/builds/buildkite-windows-cpu-autoscaling-group-i-030221e36e1a46bfb-1/xgboost/xgboost-ci-windows/src/learner.cc:767: \n",
      "Parameters: { \"gamma\", \"max_depth\" } are not used.\n",
      "\n",
      "[18:30:48] WARNING: C:/buildkite-agent/builds/buildkite-windows-cpu-autoscaling-group-i-030221e36e1a46bfb-1/xgboost/xgboost-ci-windows/src/learner.cc:767: \n",
      "Parameters: { \"gamma\", \"max_depth\" } are not used.\n",
      "\n",
      "[18:30:48] WARNING: C:/buildkite-agent/builds/buildkite-windows-cpu-autoscaling-group-i-030221e36e1a46bfb-1/xgboost/xgboost-ci-windows/src/learner.cc:767: \n",
      "Parameters: { \"gamma\", \"max_depth\" } are not used.\n",
      "\n",
      "[18:30:48] WARNING: C:/buildkite-agent/builds/buildkite-windows-cpu-autoscaling-group-i-030221e36e1a46bfb-1/xgboost/xgboost-ci-windows/src/learner.cc:767: \n",
      "Parameters: { \"gamma\", \"max_depth\" } are not used.\n",
      "\n",
      "[18:30:49] WARNING: C:/buildkite-agent/builds/buildkite-windows-cpu-autoscaling-group-i-030221e36e1a46bfb-1/xgboost/xgboost-ci-windows/src/learner.cc:767: \n",
      "Parameters: { \"gamma\", \"max_depth\" } are not used.\n",
      "\n",
      "[18:30:49] WARNING: C:/buildkite-agent/builds/buildkite-windows-cpu-autoscaling-group-i-030221e36e1a46bfb-1/xgboost/xgboost-ci-windows/src/learner.cc:767: \n",
      "Parameters: { \"gamma\", \"max_depth\" } are not used.\n",
      "\n",
      "[18:30:49] WARNING: C:/buildkite-agent/builds/buildkite-windows-cpu-autoscaling-group-i-030221e36e1a46bfb-1/xgboost/xgboost-ci-windows/src/learner.cc:767: \n",
      "Parameters: { \"gamma\", \"max_depth\" } are not used.\n",
      "\n",
      "[18:30:49] WARNING: C:/buildkite-agent/builds/buildkite-windows-cpu-autoscaling-group-i-030221e36e1a46bfb-1/xgboost/xgboost-ci-windows/src/learner.cc:767: \n",
      "Parameters: { \"gamma\", \"max_depth\" } are not used.\n",
      "\n",
      "[18:30:49] WARNING: C:/buildkite-agent/builds/buildkite-windows-cpu-autoscaling-group-i-030221e36e1a46bfb-1/xgboost/xgboost-ci-windows/src/learner.cc:767: \n",
      "Parameters: { \"gamma\", \"max_depth\" } are not used.\n",
      "\n",
      "[18:30:49] WARNING: C:/buildkite-agent/builds/buildkite-windows-cpu-autoscaling-group-i-030221e36e1a46bfb-1/xgboost/xgboost-ci-windows/src/learner.cc:767: \n",
      "Parameters: { \"gamma\", \"max_depth\" } are not used.\n",
      "\n",
      "[18:30:49] WARNING: C:/buildkite-agent/builds/buildkite-windows-cpu-autoscaling-group-i-030221e36e1a46bfb-1/xgboost/xgboost-ci-windows/src/learner.cc:767: \n",
      "Parameters: { \"gamma\", \"max_depth\" } are not used.\n",
      "\n",
      "24.9237539768219\n"
     ]
    }
   ],
   "source": [
    "# Construction du modèle gradient boosting regressor\n",
    "\n",
    "tps1 = time.time() # Temps d'execution\n",
    "\n",
    "score =\"r2\"\n",
    "param_grid = {\"booster\":[\"gbtree\", \"gblinear\"],\n",
    "              \"gamma\":[0,0.5,0.9],\n",
    "              \"max_depth\":[3,5,7]}\n",
    "\n",
    "model_xgb = GridSearchCV( XGBRegressor(),\n",
    "                          param_grid,\n",
    "                          cv = 10,\n",
    "                          scoring = score)\n",
    "\n",
    "model_xgb.fit(X_train,y_train)\n",
    "\n",
    "tps2 = time.time()\n",
    "temps_gbr = tps2 - tps1\n",
    "print(temps_gbr)"
   ],
   "metadata": {
    "collapsed": false
   }
  },
  {
   "cell_type": "code",
   "execution_count": 13,
   "outputs": [],
   "source": [
    "import time\n",
    "from sklearn.model_selection import GridSearchCV\n",
    "from sklearn import  metrics"
   ],
   "metadata": {
    "collapsed": false
   }
  },
  {
   "cell_type": "code",
   "execution_count": 17,
   "outputs": [
    {
     "name": "stdout",
     "output_type": "stream",
     "text": [
      "Résultats de la validation croisée :\n",
      "mean_test_score = 0.733 (+/-0.087) for {'booster': 'gbtree', 'gamma': 0, 'max_depth': 3}\n",
      "mean_test_score = 0.713 (+/-0.098) for {'booster': 'gbtree', 'gamma': 0, 'max_depth': 5}\n",
      "mean_test_score = 0.697 (+/-0.090) for {'booster': 'gbtree', 'gamma': 0, 'max_depth': 7}\n",
      "mean_test_score = 0.731 (+/-0.081) for {'booster': 'gbtree', 'gamma': 0.5, 'max_depth': 3}\n",
      "mean_test_score = 0.729 (+/-0.085) for {'booster': 'gbtree', 'gamma': 0.5, 'max_depth': 5}\n",
      "mean_test_score = 0.715 (+/-0.082) for {'booster': 'gbtree', 'gamma': 0.5, 'max_depth': 7}\n",
      "mean_test_score = 0.727 (+/-0.092) for {'booster': 'gbtree', 'gamma': 0.9, 'max_depth': 3}\n",
      "mean_test_score = 0.725 (+/-0.095) for {'booster': 'gbtree', 'gamma': 0.9, 'max_depth': 5}\n",
      "mean_test_score = 0.719 (+/-0.096) for {'booster': 'gbtree', 'gamma': 0.9, 'max_depth': 7}\n",
      "mean_test_score = 0.412 (+/-0.142) for {'booster': 'gblinear', 'gamma': 0, 'max_depth': 3}\n",
      "mean_test_score = 0.409 (+/-0.186) for {'booster': 'gblinear', 'gamma': 0, 'max_depth': 5}\n",
      "mean_test_score = 0.386 (+/-0.113) for {'booster': 'gblinear', 'gamma': 0, 'max_depth': 7}\n",
      "mean_test_score = 0.379 (+/-0.188) for {'booster': 'gblinear', 'gamma': 0.5, 'max_depth': 3}\n",
      "mean_test_score = 0.415 (+/-0.129) for {'booster': 'gblinear', 'gamma': 0.5, 'max_depth': 5}\n",
      "mean_test_score = 0.384 (+/-0.153) for {'booster': 'gblinear', 'gamma': 0.5, 'max_depth': 7}\n",
      "mean_test_score = 0.456 (+/-0.204) for {'booster': 'gblinear', 'gamma': 0.9, 'max_depth': 3}\n",
      "mean_test_score = 0.408 (+/-0.143) for {'booster': 'gblinear', 'gamma': 0.9, 'max_depth': 5}\n",
      "mean_test_score = 0.432 (+/-0.170) for {'booster': 'gblinear', 'gamma': 0.9, 'max_depth': 7}\n"
     ]
    }
   ],
   "source": [
    "# Afficher les performances correspondantes\n",
    "\n",
    "result = \"mean_test_score\"\n",
    "print(\"Résultats de la validation croisée :\")\n",
    "for mean, std, params in zip(\n",
    "        model_xgb.cv_results_['mean_test_score'], # score moyen\n",
    "        model_xgb.cv_results_['std_test_score'],  # écart-type du score\n",
    "        model_xgb.cv_results_['params'] ):          # valeur de l'hyperparamètre\n",
    "\n",
    "    print(\"{} = {:.3f} (+/-{:.03f}) for {}\".format( result,\n",
    "                                                   mean,\n",
    "                                                   std*2,\n",
    "                                                   params) )"
   ],
   "metadata": {
    "collapsed": false
   }
  },
  {
   "cell_type": "code",
   "execution_count": null,
   "outputs": [],
   "source": [],
   "metadata": {
    "collapsed": false
   }
  }
 ],
 "metadata": {
  "kernelspec": {
   "display_name": "Python 3",
   "language": "python",
   "name": "python3"
  },
  "language_info": {
   "codemirror_mode": {
    "name": "ipython",
    "version": 2
   },
   "file_extension": ".py",
   "mimetype": "text/x-python",
   "name": "python",
   "nbconvert_exporter": "python",
   "pygments_lexer": "ipython2",
   "version": "2.7.6"
  }
 },
 "nbformat": 4,
 "nbformat_minor": 0
}
